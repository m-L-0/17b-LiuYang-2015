{
 "cells": [
  {
   "cell_type": "code",
   "execution_count": 22,
   "metadata": {},
   "outputs": [],
   "source": [
    "# KNN"
   ]
  },
  {
   "cell_type": "code",
   "execution_count": null,
   "metadata": {},
   "outputs": [],
   "source": [
    "import tensorflow as tf  \n",
    "import numpy as np  \n",
    "\n",
    "\n",
    "def loadMNIST():  \n",
    "    from tensorflow.examples.tutorials.mnist import input_data  \n",
    "    mnist = input_data.read_data_sets('data/fashion', one_hot=True)  \n",
    "    mnist.train.next_batch(55000)\n",
    "    return mnist  \n",
    "\n",
    "\n",
    "def KNN(mnist, num):  \n",
    "    train_x, train_y = mnist.train.next_batch(55000)\n",
    "    test_x, test_y = mnist.train.next_batch(num)\n",
    "\n",
    "    xtr = tf.placeholder(tf.float32, [None, 784])\n",
    "    xte = tf.placeholder(tf.float32, [784])  \n",
    "    distance = tf.sqrt(tf.reduce_sum(tf.pow(tf.add(xtr, tf.negative(xte)),2), reduction_indices=1))\n",
    "\n",
    "    pred = tf.argmin(distance, 0)  \n",
    "\n",
    "    init = tf.initialize_all_variables()\n",
    "\n",
    "    sess = tf.Session()\n",
    "    sess.run(init)\n",
    "\n",
    "    right = 0\n",
    "    f = open(\"data/untitled.txt\",'w')    \n",
    "    for i in range(num):  \n",
    "        ansIndex = sess.run(pred, {xtr: train_x, xte: test_x[i, :]})  \n",
    "        print('预测为 : ', np.argmax(train_y[ansIndex]))  \n",
    "        print('实际为 : ', np.argmax(test_y[i]))\n",
    "        f.write(str(np.argmax(train_y[ansIndex])))\n",
    "        f.write('\\n')        \n",
    "        if np.argmax(test_y[i]) == np.argmax(train_y[ansIndex]):  \n",
    "            right += 1.0  \n",
    "    accracy = right/num*1.0  \n",
    "    print('正确率 : ', accracy*100, '%')\n",
    "\n",
    "\n",
    "if __name__ == \"__main__\":  \n",
    "    mnist = loadMNIST()\n",
    "    KNN(mnist, 300)"
   ]
  }
 ],
 "metadata": {
  "kernelspec": {
   "display_name": "Python 3",
   "language": "python",
   "name": "python3"
  },
  "language_info": {
   "codemirror_mode": {
    "name": "ipython",
    "version": 3
   },
   "file_extension": ".py",
   "mimetype": "text/x-python",
   "name": "python",
   "nbconvert_exporter": "python",
   "pygments_lexer": "ipython3",
   "version": "3.6.3"
  }
 },
 "nbformat": 4,
 "nbformat_minor": 2
}
