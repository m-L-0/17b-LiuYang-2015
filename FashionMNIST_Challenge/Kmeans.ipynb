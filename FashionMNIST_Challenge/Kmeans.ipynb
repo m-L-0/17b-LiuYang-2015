{
 "cells": [
  {
   "cell_type": "code",
   "execution_count": 22,
   "metadata": {},
   "outputs": [],
   "source": [
    "# 将MNIST样本集转化为TFRecord格式"
   ]
  },
  {
   "cell_type": "code",
   "execution_count": 25,
   "metadata": {
    "scrolled": true
   },
   "outputs": [
    {
     "name": "stdout",
     "output_type": "stream",
     "text": [
      "Extracting data/fashion/train-images-idx3-ubyte.gz\n",
      "Extracting data/fashion/train-labels-idx1-ubyte.gz\n",
      "Extracting data/fashion/t10k-images-idx3-ubyte.gz\n",
      "Extracting data/fashion/t10k-labels-idx1-ubyte.gz\n"
     ]
    },
    {
     "data": {
      "image/png": "[encoded data removed]",
      "text/plain": [
       "<matplotlib.figure.Figure at 0x7faec283d198>"
      ]
     },
     "metadata": {},
     "output_type": "display_data"
    }
   ],
   "source": [
    "import numpy as np\n",
    "import matplotlib.pyplot as plt\n",
    "from tensorflow.examples.tutorials.mnist import input_data\n",
    "from sklearn.manifold import TSNE\n",
    "\n",
    "\n",
    "class KMeans(object):\n",
    "    \"\"\"\n",
    "    - 参数\n",
    "        n_clusters:\n",
    "            聚类个数，即k\n",
    "        initCent:\n",
    "            质心初始化方式，可选\"random\"或指定一个具体的array,默认random，即随机初始化\n",
    "        max_iter:\n",
    "            最大迭代次数\n",
    "    \"\"\"\n",
    "\n",
    "    def __init__(self, n_clusters=10, initCent='random', max_iter=300):\n",
    "        if hasattr(initCent, '__array__'):\n",
    "            n_clusters = initCent.shape[0]\n",
    "            self.centroids = np.asarray(initCent, dtype=np.float)\n",
    "        else:\n",
    "            self.centroids = None\n",
    "\n",
    "        self.n_clusters = n_clusters\n",
    "        self.max_iter = max_iter\n",
    "        self.initCent = initCent\n",
    "        self.clusterAssment = None\n",
    "        self.labels = None\n",
    "        self.sse = None\n",
    "\n",
    "    # 计算两点的欧式距离\n",
    "    def _distEclud(self, vecA, vecB):\n",
    "        return np.linalg.norm(vecA - vecB)\n",
    "\n",
    "    def fit(self, X):\n",
    "        m = X.shape[0]  # m代表样本数量\n",
    "        self.clusterAssment = np.empty((m, 2))     # m*2的矩阵，第一列存储样本点所属的族的索引值，\n",
    "                                                    # 第二列存储该点与所属族的质心的平方误差\n",
    "\n",
    "        clusterChanged = True\n",
    "        for _ in range(self.max_iter):\n",
    "            clusterChanged = False\n",
    "            for i in range(m):  # 将每个样本点分配到离它最近的质心所属的族\n",
    "                minDist = np.inf\n",
    "                minIndex = -1\n",
    "                for j in range(self.n_clusters):\n",
    "                    distJI = self._distEclud(self.centroids[j,:],X[i,:])\n",
    "                    if distJI < minDist:\n",
    "                        minDist = distJI\n",
    "                        minIndex = j\n",
    "                if self.clusterAssment[i, 0] != minIndex:\n",
    "                    clusterChanged = True\n",
    "                    self.clusterAssment[i, :] = minIndex, minDist**2\n",
    "\n",
    "            if not clusterChanged:  # 若所有样本点所属的族都不改变,则已收敛，结束迭代\n",
    "                break\n",
    "            for i in range(self.n_clusters):  # 更新质心，即将每个族中的点的均值作为质心\n",
    "                ptsInClust = X[np.nonzero(self.clusterAssment[:, 0] == i)[0]]  \n",
    "                # 取出属于第i个族的所有点\n",
    "                self.centroids[i, :] = np.mean(ptsInClust, axis=0)\n",
    "\n",
    "        self.labels = self.clusterAssment[:, 0]\n",
    "        self.sse = sum(self.clusterAssment[:, 1])\n",
    "\n",
    "    def predict(self, X):  # 根据聚类结果，预测新输入数据所属的族\n",
    "        m = X.shape[0]  # m代表样本数量\n",
    "        preds = np.empty((m,))\n",
    "        for i in range(m):  # 将每个样本点分配到离它最近的质心所属的族\n",
    "            minDist = np.inf\n",
    "            for j in range(self.n_clusters):\n",
    "                distJI = self._distEclud(self.centroids[j, :], X[i, :])\n",
    "                if distJI < minDist:\n",
    "                    minDist = distJI\n",
    "                    preds[i] = j\n",
    "        return preds\n",
    "\n",
    "\n",
    "if __name__ == \"__main__\":\n",
    "    n_clusters = 10\n",
    "    train_num = 1000\n",
    "    mnist = input_data.read_data_sets('data/fashion', one_hot=True)\n",
    "    X, y = mnist.train.next_batch(50)\n",
    "    train_images = mnist.train.images\n",
    "    X = TSNE().fit_transform(train_images[:train_num])    \n",
    "    clf = KMeans(n_clusters=n_clusters, initCent=X[0:10], max_iter=100)    \n",
    "    clf.fit(X)\n",
    "    cents = clf.centroids  # 质心\n",
    "    labels = clf.labels  # 样本点被分配到的簇的索引\n",
    "    sse = clf.sse\n",
    "    markers = ['.', 'o', ',', 'v', '^', '<', '>', '1', '2', '3']\n",
    "    for i in range(0, n_clusters):\n",
    "        plt.plot(cents[i, 0], cents[i, 1], markers[i], markersize=12)\n",
    "    plt.show()"
   ]
  }
 ],
 "metadata": {
  "kernelspec": {
   "display_name": "Python 3",
   "language": "python",
   "name": "python3"
  },
  "language_info": {
   "codemirror_mode": {
    "name": "ipython",
    "version": 3
   },
   "file_extension": ".py",
   "mimetype": "text/x-python",
   "name": "python",
   "nbconvert_exporter": "python",
   "pygments_lexer": "ipython3",
   "version": "3.6.3"
  }
 },
 "nbformat": 4,
 "nbformat_minor": 2
}
