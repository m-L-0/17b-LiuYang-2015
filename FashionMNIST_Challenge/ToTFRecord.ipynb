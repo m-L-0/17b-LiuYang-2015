{
 "cells": [
  {
   "cell_type": "code",
   "execution_count": 22,
   "metadata": {},
   "outputs": [],
   "source": [
    "# 将MNIST样本集转化为TFRecord格式"
   ]
  },
  {
   "cell_type": "code",
   "execution_count": 23,
   "metadata": {
    "scrolled": true
   },
   "outputs": [
    {
     "name": "stdout",
     "output_type": "stream",
     "text": [
      "Extracting /home/miles/MNIST/data/train-images-idx3-ubyte.gz\n",
      "Extracting /home/miles/MNIST/data/train-labels-idx1-ubyte.gz\n",
      "Extracting /home/miles/MNIST/data/t10k-images-idx3-ubyte.gz\n",
      "Extracting /home/miles/MNIST/data/t10k-labels-idx1-ubyte.gz\n"
     ]
    }
   ],
   "source": [
    "import tensorflow as tf  \n",
    "from tensorflow.examples.tutorials.mnist import input_data  \n",
    "import numpy as np  \n",
    "\n",
    "\n",
    "# 把传入的value转化为整数型的属性，int64_list对应着 tf.train.Example 的定义  \n",
    "def _int64_feature(value):  \n",
    "    return tf.train.Feature(int64_list=tf.train.Int64List(value=[value]))  \n",
    "\n",
    "\n",
    "# 把传入的value转化为字符串型的属性，bytes_list对应着 tf.train.Example 的定义  \n",
    "def _bytes_feature(value):  \n",
    "    return tf.train.Feature(bytes_list=tf.train.BytesList(value=[value]))  \n",
    "\n",
    "\n",
    "# 读取MNIST数据  \n",
    "mnist = input_data.read_data_sets(\"/home/miles/MNIST/data\", dtype=tf.uint8, one_hot=True)  \n",
    "# 训练数据的图像，可以作为一个属性来存储  \n",
    "images = mnist.train.images  \n",
    "# 训练数据所对应的正确答案，可以作为一个属性来存储  \n",
    "labels = mnist.train.labels  \n",
    "# 训练数据的图像分辨率，可以作为一个属性来存储  \n",
    "pixels = images.shape[0]  \n",
    "# 训练数据的个数  \n",
    "num_examples = mnist.train.num_examples  \n",
    "# 指定要写入TFRecord文件的地址  \n",
    "filename = \"/home/miles/MNIST/data/output.tfrecords\"  \n",
    "# 创建一个write来写TFRecord文件  \n",
    "writer = tf.python_io.TFRecordWriter(filename)  \n",
    "for index in range(num_examples):  \n",
    "    # 把图像矩阵转化为字符串  \n",
    "    image_raw = images[index].tostring()  \n",
    "    # 将一个样例转化为Example Protocol Buffer，并将所有的信息写入这个数据结构  \n",
    "    example = tf.train.Example(features=tf.train.Features(feature={  \n",
    "        'pixels': _int64_feature(pixels),  \n",
    "        'label': _int64_feature(np.argmax(labels[index])),  \n",
    "        'image_raw': _bytes_feature(image_raw)}))  \n",
    "    # 将 Example 写入TFRecord文件  \n",
    "    writer.write(example.SerializeToString())  \n",
    "\n",
    "writer.close()  "
   ]
  }
 ],
 "metadata": {
  "kernelspec": {
   "display_name": "Python 3",
   "language": "python",
   "name": "python3"
  },
  "language_info": {
   "codemirror_mode": {
    "name": "ipython",
    "version": 3
   },
   "file_extension": ".py",
   "mimetype": "text/x-python",
   "name": "python",
   "nbconvert_exporter": "python",
   "pygments_lexer": "ipython3",
   "version": "3.6.3"
  }
 },
 "nbformat": 4,
 "nbformat_minor": 2
}
