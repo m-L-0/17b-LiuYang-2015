{
 "cells": [
  {
   "cell_type": "markdown",
   "metadata": {},
   "source": [
    "# 图片Pre-Resize"
   ]
  },
  {
   "cell_type": "code",
   "execution_count": null,
   "metadata": {},
   "outputs": [],
   "source": [
    "import os\n",
    "from PIL import Image\n",
    "PATH = '1'\n",
    "data_base_dir = \"车牌字符识别训练数据/数字/\"+PATH     #存放原始图片地址  \n",
    "save_dir = \"saveddata\"\n",
    "file_list = []      #建立新列表，用于存放图片名\n",
    "for file in os.listdir(data_base_dir):   #指定目录：data_base_dir中内容\n",
    "    file_list.append(file)     #将jpg图片文件全部全部存入file_list列表中\n",
    "number_of_pictures = len(file_list)     #len(a):列表a长度  \n",
    "n = 0\n",
    "for i in file_list:\n",
    "    img = Image.open(data_base_dir+'/'+i)\n",
    "    n = n+1\n",
    "    print(img)\n",
    "    out = img.resize((20, 36), Image.ANTIALIAS)\n",
    "    print('out', out)\n",
    "    out.save('SavedData/'+str(n)+'_label_'+PATH+'.jpg')\n",
    "print(\"number_of_pictures:\", number_of_pictures)   # 输出图片个数  \n",
    "print(\"CURRENT_PATH : \", PATH)"
   ]
  }
 ],
 "metadata": {
  "kernelspec": {
   "display_name": "Python 3",
   "language": "python",
   "name": "python3"
  },
  "language_info": {
   "codemirror_mode": {
    "name": "ipython",
    "version": 3
   },
   "file_extension": ".py",
   "mimetype": "text/x-python",
   "name": "python",
   "nbconvert_exporter": "python",
   "pygments_lexer": "ipython3",
   "version": "3.6.3"
  }
 },
 "nbformat": 4,
 "nbformat_minor": 2
}
